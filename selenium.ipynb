{
 "cells": [
  {
   "cell_type": "code",
   "execution_count": 21,
   "metadata": {
    "collapsed": false
   },
   "outputs": [
    {
     "name": "stdout",
     "output_type": "stream",
     "text": [
      "陕西思瑞建筑工程有限公司\n",
      "法定代表人： 陈永锋 成立时间： 2016年07月25日 注册资本： 2000万人民币 行业： 其他采矿业\n",
      "企业地址： 陕西省西安市未央区徐家湾街道办红旗东路红光嘉苑小区7号楼29层2905室\n"
     ]
    }
   ],
   "source": [
    "from selenium import webdriver\n",
    "\n",
    "browser = webdriver.Chrome()\n",
    "url = 'https://www.weimao.com/search/category/12'\n",
    "browser.get(url)\n",
    "input = browser.find_element_by_class_name('search-left-content')\n",
    "print(input.text)"
   ]
  },
  {
   "cell_type": "code",
   "execution_count": 47,
   "metadata": {
    "collapsed": false
   },
   "outputs": [
    {
     "name": "stdout",
     "output_type": "stream",
     "text": [
      "[<selenium.webdriver.remote.webelement.WebElement (session=\"c5f484718b1d0dee67ffc351d38f47cb\", element=\"7b2d6668-455f-415a-a9a9-ab5b0493684d\")>, <selenium.webdriver.remote.webelement.WebElement (session=\"c5f484718b1d0dee67ffc351d38f47cb\", element=\"9a47d02e-ab01-4b57-ab81-297dd511dc22\")>, <selenium.webdriver.remote.webelement.WebElement (session=\"c5f484718b1d0dee67ffc351d38f47cb\", element=\"24a2e5e9-ff81-4ca7-85b8-afb79732513f\")>, <selenium.webdriver.remote.webelement.WebElement (session=\"c5f484718b1d0dee67ffc351d38f47cb\", element=\"2b2578cf-d05e-4aba-91e5-e6b397bb2a63\")>, <selenium.webdriver.remote.webelement.WebElement (session=\"c5f484718b1d0dee67ffc351d38f47cb\", element=\"4bcd140e-9c25-4456-9e82-bee0bb999189\")>, <selenium.webdriver.remote.webelement.WebElement (session=\"c5f484718b1d0dee67ffc351d38f47cb\", element=\"78c61ca3-2fc4-4b11-aa20-e1823c48310e\")>, <selenium.webdriver.remote.webelement.WebElement (session=\"c5f484718b1d0dee67ffc351d38f47cb\", element=\"1ff30f3a-53e8-4bac-be6f-d666081ad667\")>, <selenium.webdriver.remote.webelement.WebElement (session=\"c5f484718b1d0dee67ffc351d38f47cb\", element=\"9ee4cd05-7ae1-4a4a-8aaf-b84545a2c358\")>, <selenium.webdriver.remote.webelement.WebElement (session=\"c5f484718b1d0dee67ffc351d38f47cb\", element=\"b8e5c4a8-4a45-4a30-99ae-741d9b4e235b\")>, <selenium.webdriver.remote.webelement.WebElement (session=\"c5f484718b1d0dee67ffc351d38f47cb\", element=\"b3d7919e-2760-49dd-a20a-62e6180fb627\")>]\n"
     ]
    }
   ],
   "source": [
    "from selenium import webdriver\n",
    "\n",
    "\n",
    "browser = webdriver.Chrome()\n",
    "browser.get(\"https://www.weimao.com/search/category/12\")\n",
    "lis = browser.find_elements_by_css_selector('.status')\n",
    "print(lis)\n",
    "browser.close()"
   ]
  },
  {
   "cell_type": "code",
   "execution_count": 46,
   "metadata": {
    "collapsed": false
   },
   "outputs": [
    {
     "name": "stdout",
     "output_type": "stream",
     "text": [
      "南阳市奇岩天然石材有限公司\n",
      "法定代表人： 范钦宝 成立时间： 2006年03月30日 注册资本： 1000万 行业： 其他采矿业\n",
      "企业地址： 镇平县建设大道中原石雕文化产业园区\n"
     ]
    }
   ],
   "source": [
    "from selenium import webdriver\n",
    "import time\n",
    "\n",
    "browser = webdriver.Chrome()\n",
    "url = 'https://www.weimao.com/search/category/12'\n",
    "browser.get(url)\n",
    "time.sleep(10)\n",
    "input = browser.find_element_by_class_name('company-li')\n",
    "print(input.text)"
   ]
  },
  {
   "cell_type": "code",
   "execution_count": 57,
   "metadata": {
    "collapsed": false
   },
   "outputs": [
    {
     "ename": "TypeError",
     "evalue": "'method' object is not subscriptable",
     "output_type": "error",
     "traceback": [
      "\u001b[0;31m---------------------------------------------------------------------------\u001b[0m",
      "\u001b[0;31mTypeError\u001b[0m                                 Traceback (most recent call last)",
      "\u001b[0;32m<ipython-input-57-fe917afd0e9d>\u001b[0m in \u001b[0;36m<module>\u001b[0;34m()\u001b[0m\n\u001b[1;32m      5\u001b[0m \u001b[0mbrowser\u001b[0m\u001b[1;33m.\u001b[0m\u001b[0mget\u001b[0m\u001b[1;33m(\u001b[0m\u001b[1;34m\"https://www.weimao.com/search/category/12\"\u001b[0m\u001b[1;33m)\u001b[0m\u001b[1;33m\u001b[0m\u001b[0m\n\u001b[1;32m      6\u001b[0m \u001b[1;33m\u001b[0m\u001b[0m\n\u001b[0;32m----> 7\u001b[0;31m \u001b[0minput_third\u001b[0m \u001b[1;33m=\u001b[0m \u001b[0mbrowser\u001b[0m\u001b[1;33m.\u001b[0m\u001b[0mfind_element_by_xpath\u001b[0m\u001b[1;33m[\u001b[0m\u001b[1;36m1\u001b[0m\u001b[1;33m]\u001b[0m\u001b[1;33m(\u001b[0m\u001b[1;34m\".//*[@class='status']\"\u001b[0m\u001b[1;33m)\u001b[0m\u001b[1;33m.\u001b[0m\u001b[0mtext\u001b[0m\u001b[1;33m\u001b[0m\u001b[0m\n\u001b[0m\u001b[1;32m      8\u001b[0m \u001b[0mprint\u001b[0m\u001b[1;33m(\u001b[0m\u001b[0minput_third\u001b[0m\u001b[1;33m)\u001b[0m\u001b[1;33m\u001b[0m\u001b[0m\n\u001b[1;32m      9\u001b[0m \u001b[1;33m\u001b[0m\u001b[0m\n",
      "\u001b[0;31mTypeError\u001b[0m: 'method' object is not subscriptable"
     ]
    }
   ],
   "source": [
    "from selenium import webdriver\n",
    "\n",
    "browser = webdriver.Chrome()\n",
    "browser.maximize_window()\n",
    "browser.get(\"https://www.weimao.com/search/category/12\")\n",
    "\n",
    "input_third = browser.find_element_by_xpath(\".//*[@class='status']\").text\n",
    "print(input_third)\n",
    "    \n",
    "browser.close()"
   ]
  },
  {
   "cell_type": "code",
   "execution_count": 72,
   "metadata": {
    "collapsed": false
   },
   "outputs": [
    {
     "ename": "AttributeError",
     "evalue": "'list' object has no attribute 'text'",
     "output_type": "error",
     "traceback": [
      "\u001b[0;31m---------------------------------------------------------------------------\u001b[0m",
      "\u001b[0;31mAttributeError\u001b[0m                            Traceback (most recent call last)",
      "\u001b[0;32m<ipython-input-72-619ac9011100>\u001b[0m in \u001b[0;36m<module>\u001b[0;34m()\u001b[0m\n\u001b[1;32m      8\u001b[0m \u001b[1;33m\u001b[0m\u001b[0m\n\u001b[1;32m      9\u001b[0m     \u001b[0mbrowser\u001b[0m\u001b[1;33m.\u001b[0m\u001b[0mget\u001b[0m\u001b[1;33m(\u001b[0m\u001b[0murl\u001b[0m\u001b[1;33m)\u001b[0m\u001b[1;33m\u001b[0m\u001b[0m\n\u001b[0;32m---> 10\u001b[0;31m     \u001b[0minput_third\u001b[0m \u001b[1;33m=\u001b[0m \u001b[0mbrowser\u001b[0m\u001b[1;33m.\u001b[0m\u001b[0mfind_elements_by_xpath\u001b[0m\u001b[1;33m(\u001b[0m\u001b[1;34m\".//*[@class='status']\"\u001b[0m\u001b[1;33m)\u001b[0m\u001b[1;33m.\u001b[0m\u001b[0mtext\u001b[0m\u001b[1;33m\u001b[0m\u001b[0m\n\u001b[0m\u001b[1;32m     11\u001b[0m     \u001b[0mprint\u001b[0m\u001b[1;33m(\u001b[0m\u001b[0minput_third\u001b[0m\u001b[1;33m)\u001b[0m\u001b[1;33m\u001b[0m\u001b[0m\n\u001b[1;32m     12\u001b[0m \u001b[1;33m\u001b[0m\u001b[0m\n",
      "\u001b[0;31mAttributeError\u001b[0m: 'list' object has no attribute 'text'"
     ]
    }
   ],
   "source": [
    "\n",
    "\n",
    "browser = webdriver.Chrome()\n",
    "browser.maximize_window()\n",
    "\n",
    "for i in range(1,4):\n",
    "    url='https://www.weimao.com/search/category/12'+ '?index='+str(i)\n",
    "\n",
    "    browser.get(url)\n",
    "    input_third = browser.find_element_by_xpath(\".//*[@class='status']\").text\n",
    "    print(input_third)\n",
    "    \n",
    "\n",
    "\n",
    "\n"
   ]
  },
  {
   "cell_type": "code",
   "execution_count": 79,
   "metadata": {
    "collapsed": false
   },
   "outputs": [
    {
     "name": "stdout",
     "output_type": "stream",
     "text": [
      "存续\n",
      "在业\n",
      "存续\n",
      "在业\n",
      "在业\n",
      "在业\n",
      "存续\n",
      "存续\n",
      "存续\n",
      "在业\n",
      "存续\n",
      "存续\n",
      "存续\n",
      "存续\n",
      "存续\n",
      "存续\n",
      "存续\n",
      "存续\n",
      "存续\n",
      "存续\n",
      "存续\n",
      "存续\n",
      "在业\n",
      "存续\n",
      "存续\n",
      "存续\n",
      "存续\n",
      "存续\n",
      "存续\n",
      "存续\n"
     ]
    }
   ],
   "source": [
    "browser = webdriver.Chrome()\n",
    "browser.maximize_window()\n",
    "\n",
    "for i in range(1,4):\n",
    "    url='https://www.weimao.com/search/category/12'+ '?index='+str(i)\n",
    "    for j in range(0,10):\n",
    "        browser.get(url)\n",
    "        input_third = browser.find_elements_by_xpath(\".//*[@class='status']\")[j]\n",
    "        print(input_third.text)\n"
   ]
  },
  {
   "cell_type": "code",
   "execution_count": 63,
   "metadata": {
    "collapsed": false
   },
   "outputs": [
    {
     "ename": "TypeError",
     "evalue": "'list' object is not callable",
     "output_type": "error",
     "traceback": [
      "\u001b[0;31m---------------------------------------------------------------------------\u001b[0m",
      "\u001b[0;31mTypeError\u001b[0m                                 Traceback (most recent call last)",
      "\u001b[0;32m<ipython-input-63-02be0ba825e2>\u001b[0m in \u001b[0;36m<module>\u001b[0;34m()\u001b[0m\n\u001b[1;32m      5\u001b[0m \u001b[1;33m\u001b[0m\u001b[0m\n\u001b[1;32m      6\u001b[0m \u001b[1;32mfor\u001b[0m \u001b[0mi\u001b[0m \u001b[1;32min\u001b[0m \u001b[0mrange\u001b[0m\u001b[1;33m(\u001b[0m\u001b[1;36m1\u001b[0m\u001b[1;33m,\u001b[0m\u001b[1;36m3\u001b[0m\u001b[1;33m)\u001b[0m\u001b[1;33m:\u001b[0m \u001b[1;31m#i循环修改index=i的值\u001b[0m\u001b[1;33m\u001b[0m\u001b[0m\n\u001b[0;32m----> 7\u001b[0;31m     \u001b[0murl\u001b[0m\u001b[1;33m=\u001b[0m\u001b[1;34m'https://www.weimao.com/search/category/12'\u001b[0m\u001b[1;33m+\u001b[0m \u001b[1;34m'?index='\u001b[0m\u001b[1;33m+\u001b[0m\u001b[0mstr\u001b[0m\u001b[1;33m(\u001b[0m\u001b[0mi\u001b[0m\u001b[1;33m)\u001b[0m\u001b[1;33m\u001b[0m\u001b[0m\n\u001b[0m\u001b[1;32m      8\u001b[0m     \u001b[1;32mfor\u001b[0m \u001b[0mj\u001b[0m \u001b[1;32min\u001b[0m \u001b[0mrange\u001b[0m\u001b[1;33m(\u001b[0m\u001b[1;36m0\u001b[0m\u001b[1;33m,\u001b[0m\u001b[1;36m10\u001b[0m\u001b[1;33m)\u001b[0m\u001b[1;33m:\u001b[0m \u001b[1;31m#j循环遍历整页内容\u001b[0m\u001b[1;33m\u001b[0m\u001b[0m\n\u001b[1;32m      9\u001b[0m         \u001b[0mbrowser\u001b[0m\u001b[1;33m.\u001b[0m\u001b[0mget\u001b[0m\u001b[1;33m(\u001b[0m\u001b[0murl\u001b[0m\u001b[1;33m)\u001b[0m\u001b[1;33m\u001b[0m\u001b[0m\n",
      "\u001b[0;31mTypeError\u001b[0m: 'list' object is not callable"
     ]
    }
   ],
   "source": [
    "from selenium import webdriver\n",
    "browser = webdriver.Chrome()\n",
    "browser.maximize_window()\n",
    "lists1,lists2,lists3 = [],[],[]\n",
    "\n",
    "for i in range(1,3): #i循环修改index=i的值\n",
    "    url='https://www.weimao.com/search/category/12'+ '?index='+str(i) \n",
    "    for j in range(0,10): #j循环遍历整页内容\n",
    "        browser.get(url)\n",
    "        input1 = browser.find_elements_by_class_name('search-left-content')[j]\n",
    "        lists1.append(input1.text)\n",
    "        input2 = browser.find_elements_by_xpath(\".//*[@class='status']\")[j]\n",
    "        lists2.append(input2.text)\n",
    "        \n",
    "        \n",
    "    for a,b in map(list,zip(lists1,lists2)):\n",
    "        lists3.append(a)\n",
    "        lists3.append(b)\n",
    "print(lists3)\n",
    "browser.close()"
   ]
  },
  {
   "cell_type": "code",
   "execution_count": 60,
   "metadata": {
    "collapsed": false
   },
   "outputs": [
    {
     "ename": "TypeError",
     "evalue": "'list' object is not callable",
     "output_type": "error",
     "traceback": [
      "\u001b[0;31m---------------------------------------------------------------------------\u001b[0m",
      "\u001b[0;31mTypeError\u001b[0m                                 Traceback (most recent call last)",
      "\u001b[0;32m<ipython-input-60-5132252c2987>\u001b[0m in \u001b[0;36m<module>\u001b[0;34m()\u001b[0m\n\u001b[1;32m      7\u001b[0m \u001b[0mlists1\u001b[0m\u001b[1;33m,\u001b[0m\u001b[0mlists2\u001b[0m\u001b[1;33m,\u001b[0m\u001b[0mlist3\u001b[0m \u001b[1;33m=\u001b[0m \u001b[1;33m[\u001b[0m\u001b[1;33m]\u001b[0m\u001b[1;33m,\u001b[0m\u001b[1;33m[\u001b[0m\u001b[1;33m]\u001b[0m\u001b[1;33m,\u001b[0m\u001b[1;33m[\u001b[0m\u001b[1;33m]\u001b[0m\u001b[1;33m\u001b[0m\u001b[0m\n\u001b[1;32m      8\u001b[0m \u001b[1;32mfor\u001b[0m \u001b[0mi\u001b[0m \u001b[1;32min\u001b[0m \u001b[0mrange\u001b[0m\u001b[1;33m(\u001b[0m\u001b[1;36m1\u001b[0m\u001b[1;33m,\u001b[0m\u001b[1;36m3\u001b[0m\u001b[1;33m)\u001b[0m\u001b[1;33m:\u001b[0m \u001b[1;31m#i循环修改index=i的值\u001b[0m\u001b[1;33m\u001b[0m\u001b[0m\n\u001b[0;32m----> 9\u001b[0;31m     \u001b[0murl\u001b[0m\u001b[1;33m=\u001b[0m\u001b[1;34m'https://www.weimao.com/search/category/12'\u001b[0m\u001b[1;33m+\u001b[0m \u001b[1;34m'?index='\u001b[0m\u001b[1;33m+\u001b[0m\u001b[0mstr\u001b[0m\u001b[1;33m(\u001b[0m\u001b[0mi\u001b[0m\u001b[1;33m)\u001b[0m\u001b[1;33m\u001b[0m\u001b[0m\n\u001b[0m\u001b[1;32m     10\u001b[0m     \u001b[0mdriver\u001b[0m\u001b[1;33m.\u001b[0m\u001b[0mget\u001b[0m\u001b[1;33m(\u001b[0m\u001b[0murl\u001b[0m\u001b[1;33m)\u001b[0m\u001b[1;33m\u001b[0m\u001b[0m\n\u001b[1;32m     11\u001b[0m     \u001b[0mdriver\u001b[0m\u001b[1;33m.\u001b[0m\u001b[0mfind_element_by_class_name\u001b[0m\u001b[1;33m(\u001b[0m\u001b[1;34m'search-left-content'\u001b[0m\u001b[1;33m)\u001b[0m\u001b[1;33m\u001b[0m\u001b[0m\n",
      "\u001b[0;31mTypeError\u001b[0m: 'list' object is not callable"
     ]
    }
   ],
   "source": [
    "from selenium import webdriver\n",
    "import time\n",
    "\n",
    "driver = webdriver.Chrome()\n",
    "driver.maximize_window()\n",
    "\n",
    "lists1,lists2,list3 = [],[],[]\n",
    "for i in range(1,3): #i循环修改index=i的值\n",
    "    url='https://www.weimao.com/search/category/12'+ '?index='+str(i)\n",
    "    driver.get(url)\n",
    "    driver.find_element_by_class_name('search-left-content')\n",
    "    driver.find_element_by_class_name('status')\n",
    "    names1 = driver.find_elements_by_class_name('search-left-content')\n",
    "    names2 = driver.find_elements_by_class_name('status')\n",
    "    for j in names1:\n",
    "        a = j.text\n",
    "        lists1.append(a)\n",
    "          # 打印遍历标签出来的内容和获取href属性的内容\n",
    "\n",
    "    for m in names2:\n",
    "        b = m.text\n",
    "        lists2.append(b)\n",
    "          # 打印遍历标签出来的内容和获取href属性的内容\n",
    "\n",
    "    \n",
    "    for a,b in map(list,zip(lists1,lists2)):\n",
    "        list3.append(a)\n",
    "        list3.append(b)\n",
    "        \n",
    "print(list3)\n",
    "    \n",
    "\n",
    "    \n"
   ]
  },
  {
   "cell_type": "code",
   "execution_count": 61,
   "metadata": {
    "collapsed": false
   },
   "outputs": [
    {
     "ename": "TypeError",
     "evalue": "list indices must be integers or slices, not str",
     "output_type": "error",
     "traceback": [
      "\u001b[0;31m---------------------------------------------------------------------------\u001b[0m",
      "\u001b[0;31mTypeError\u001b[0m                                 Traceback (most recent call last)",
      "\u001b[0;32m<ipython-input-61-e3f4fca05753>\u001b[0m in \u001b[0;36m<module>\u001b[0;34m()\u001b[0m\n\u001b[1;32m      1\u001b[0m \u001b[1;32mfor\u001b[0m \u001b[0mi\u001b[0m \u001b[1;32min\u001b[0m \u001b[0mlists3\u001b[0m\u001b[1;33m:\u001b[0m\u001b[1;33m\u001b[0m\u001b[0m\n\u001b[0;32m----> 2\u001b[0;31m     \u001b[0mprint\u001b[0m\u001b[1;33m(\u001b[0m\u001b[0mlists3\u001b[0m\u001b[1;33m[\u001b[0m\u001b[0mi\u001b[0m\u001b[1;33m]\u001b[0m\u001b[1;33m)\u001b[0m\u001b[1;33m\u001b[0m\u001b[0m\n\u001b[0m\u001b[1;32m      3\u001b[0m \u001b[1;33m\u001b[0m\u001b[0m\n",
      "\u001b[0;31mTypeError\u001b[0m: list indices must be integers or slices, not str"
     ]
    }
   ],
   "source": [
    "for i in lists3:\n",
    "    print(lists3[i])\n",
    "   \n"
   ]
  }
 ],
 "metadata": {
  "kernelspec": {
   "display_name": "Python 3",
   "language": "python",
   "name": "python3"
  },
  "language_info": {
   "codemirror_mode": {
    "name": "ipython",
    "version": 3
   },
   "file_extension": ".py",
   "mimetype": "text/x-python",
   "name": "python",
   "nbconvert_exporter": "python",
   "pygments_lexer": "ipython3",
   "version": "3.6.0"
  }
 },
 "nbformat": 4,
 "nbformat_minor": 2
}
